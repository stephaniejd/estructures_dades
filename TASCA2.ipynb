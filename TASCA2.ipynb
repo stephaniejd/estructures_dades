{
 "cells": [
  {
   "cell_type": "markdown",
   "metadata": {},
   "source": [
    "# TAREA 2"
   ]
  },
  {
   "cell_type": "markdown",
   "metadata": {},
   "source": [
    "___EJERCICIO 1___"
   ]
  },
  {
   "cell_type": "code",
   "execution_count": 22,
   "metadata": {},
   "outputs": [
    {
     "name": "stdout",
     "output_type": "stream",
     "text": [
      "[['Gener', 'Febrer', 'Març'], ['Abril', 'Maig', 'Juny'], ['Juliol', 'Agost', 'Septembre'], ['Octubre', 'Novembre', 'Desembre']]\n"
     ]
    }
   ],
   "source": [
    "# creació de trimestres\n",
    "trim1 = ['Gener', 'Febrer', 'Març']\n",
    "trim2 = ['Abril','Maig','Juny']\n",
    "trim3 = ['Juliol','Agost','Septembre']\n",
    "trim4 = ['Octubre','Novembre','Desembre']\n",
    "any = [trim1, trim2, trim3, trim4]\n",
    "\n",
    "print(any)\n"
   ]
  },
  {
   "cell_type": "markdown",
   "metadata": {},
   "source": [
    "___EJERCICIO 2___"
   ]
  },
  {
   "cell_type": "code",
   "execution_count": 20,
   "metadata": {},
   "outputs": [
    {
     "name": "stdout",
     "output_type": "stream",
     "text": [
      "Febrer\n",
      "['Gener', 'Febrer', 'Març']\n",
      "Septembre Octubre\n"
     ]
    }
   ],
   "source": [
    "# accedir a segon mes del primer trimestre\n",
    "print(trim1[1])\n",
    "\n",
    "# accedir a mesos del primer trimestre\n",
    "print(any[0])\n",
    "\n",
    "# accedir a septembre i octubre\n",
    "print(trim3[-1], trim4[0])"
   ]
  },
  {
   "cell_type": "markdown",
   "metadata": {},
   "source": [
    "___EJERCICIO 3___"
   ]
  },
  {
   "cell_type": "code",
   "execution_count": 113,
   "metadata": {},
   "outputs": [
    {
     "name": "stdout",
     "output_type": "stream",
     "text": [
      "Hay 10 números en total\n",
      "El número 3 aparece 1 vez\n",
      "El número 3 aparece 1 y el número 4 aparece 3\n",
      "El número más alto es el: 9\n",
      "Los tres números más pequeños son: [2, 3, 4]\n",
      "La lista tiene el range(0, 10)\n"
     ]
    }
   ],
   "source": [
    "# creación de lista con números desordenados\n",
    "list = [3, 2, 6, 4, 8, 9, 6, 4, 5, 4]\n",
    "\n",
    "# total de números\n",
    "print('Hay ' + str(len(list)) + ' números en total')\n",
    "\n",
    "# cuantas veces aparece el número 3 en la lista\n",
    "if list.count(3) < 2:\n",
    "    print('El número 3 aparece ' + str(list.count(3))+ ' vez')\n",
    "else:\n",
    "    print('El número 3 aparece ' + str(list.count(3))+ ' veces')\n",
    "\n",
    "# cuantas veces aparecen los números 3 y 4 en la lista\n",
    "print('El número 3 aparece ' + str(list.count(3)) + ' y el número 4 aparece ' + str(list.count(4)))\n",
    "\n",
    "# el número más grande\n",
    "print('El número más alto es el: '+ str(max(list)))\n",
    "\n",
    "# los tres números más pequeños\n",
    "list.sort()\n",
    "print('Los tres números más pequeños son: ' + str(list[:3]))\n",
    "\n",
    "# rango de la lista\n",
    "\n",
    "\n",
    "print('La lista tiene el ' + str(range(len(list))))"
   ]
  },
  {
   "cell_type": "markdown",
   "metadata": {},
   "source": [
    "___EJERCICIO 4___"
   ]
  },
  {
   "cell_type": "code",
   "execution_count": 16,
   "metadata": {},
   "outputs": [
    {
     "name": "stdout",
     "output_type": "stream",
     "text": [
      "{'Pomes': {'Qty': 5, '€': 0.42}, 'Peres': {'Qty': 3, '€': 0.66}, 'Mandarines': {'Qty': 3, '€': 0.34}}\n",
      "Las peras nos han costado 0.66€\n",
      "Hemos comprado 11 frutas en total\n",
      "La fruita mes cara son les peres\n"
     ]
    }
   ],
   "source": [
    "compra = { \"Pomes\" : {\"Qty\": 5, \"€\": 0.42}, \"Peres\" : {\"Qty\": 3, \"€\": 0.66} }\n",
    "\n",
    "# añdir fruta\n",
    "compra['Mandarines'] = {\"Qty\": 3, \"€\": 0.34}\n",
    "print(compra)\n",
    "\n",
    "# precio de las peras\n",
    "c_peres = compra.get('Peres')\n",
    "p_peres = c_peres.get('€')\n",
    "\n",
    "print('Las peras nos han costado ' + str(p_peres) + '€')\n",
    "\n",
    "# total de frutas\n",
    "total_f =sum([i['Qty'] for i in compra.values()])\n",
    "    \n",
    "print('Hemos comprado ' + str(total_f) + ' frutas en total')\n",
    "\n",
    "# la fruta más cara\n",
    "\n",
    "for item in compra.items():\n",
    "    if item[1]['€']==max([i['€'] for i in compra.values()]):\n",
    "        resultado = item[0]\n",
    "        \n",
    "print('La fruita mes cara son les ' + resultado.lower())\n",
    "\n",
    "\n"
   ]
  },
  {
   "cell_type": "code",
   "execution_count": null,
   "metadata": {},
   "outputs": [],
   "source": []
  }
 ],
 "metadata": {
  "kernelspec": {
   "display_name": "Python 3",
   "language": "python",
   "name": "python3"
  },
  "language_info": {
   "codemirror_mode": {
    "name": "ipython",
    "version": 3
   },
   "file_extension": ".py",
   "mimetype": "text/x-python",
   "name": "python",
   "nbconvert_exporter": "python",
   "pygments_lexer": "ipython3",
   "version": "3.8.5"
  }
 },
 "nbformat": 4,
 "nbformat_minor": 4
}
